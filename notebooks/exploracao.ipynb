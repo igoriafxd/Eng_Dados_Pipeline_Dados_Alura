{
 "cells": [
  {
   "cell_type": "markdown",
   "metadata": {},
   "source": [
    "Lendo os dados"
   ]
  },
  {
   "cell_type": "code",
   "execution_count": 76,
   "metadata": {},
   "outputs": [],
   "source": [
    "#DADOS EMPRESA A#\n",
    "\n",
    "import json\n",
    "path_json = '../data_raw/dados_empresaA.json'\n",
    "\n",
    "\n",
    "with open(path_json, 'r') as file:\n",
    "    dados_json = json.load(file)"
   ]
  },
  {
   "cell_type": "code",
   "execution_count": 77,
   "metadata": {},
   "outputs": [],
   "source": [
    "#DADOS EMPRESA B#\n",
    "\n",
    "import csv\n",
    "path_csv = '../data_raw/dados_empresaB.csv'\n",
    "\n",
    "dados_csv = []\n",
    "with open(path_csv, 'r') as file:\n",
    "    spamreader = csv.DictReader(file, delimiter=',')\n",
    "    for row in spamreader:\n",
    "        dados_csv.append(row)"
   ]
  },
  {
   "cell_type": "code",
   "execution_count": 78,
   "metadata": {},
   "outputs": [
    {
     "data": {
      "text/plain": [
       "{'Nome do Item': 'Nome do Produto',\n",
       " 'Classificação do Produto': 'Categoria do Produto',\n",
       " 'Valor em Reais (R$)': 'Preço do Produto (R$)',\n",
       " 'Quantidade em Estoque': 'Quantidade em Estoque',\n",
       " 'Nome da Loja': 'Filial',\n",
       " 'Data da Venda': 'Data da Venda'}"
      ]
     },
     "execution_count": 78,
     "metadata": {},
     "output_type": "execute_result"
    }
   ],
   "source": [
    "#PADRONIZANDO CHAVES DICIONARIOS#\n",
    "\n",
    "key_mapping = {'Nome do Item': 'Nome do Produto',\n",
    "                'Classificação do Produto': 'Categoria do Produto',\n",
    "                'Valor em Reais (R$)': 'Preço do Produto (R$)',\n",
    "                'Quantidade em Estoque': 'Quantidade em Estoque',\n",
    "                'Nome da Loja': 'Filial',\n",
    "                'Data da Venda': 'Data da Venda'}\n",
    "key_mapping\n"
   ]
  },
  {
   "cell_type": "code",
   "execution_count": 79,
   "metadata": {},
   "outputs": [
    {
     "data": {
      "text/plain": [
       "{'Nome do Produto': 'Lápis de sobrancelha',\n",
       " 'Categoria do Produto': 'Roupas',\n",
       " 'Preço do Produto (R$)': '55.17',\n",
       " 'Quantidade em Estoque': '62',\n",
       " 'Filial': 'Filial 1',\n",
       " 'Data da Venda': '2023-04-13 18:58:06.794203'}"
      ]
     },
     "execution_count": 79,
     "metadata": {},
     "output_type": "execute_result"
    }
   ],
   "source": [
    "#REALIZANDO A ATUALIZAÇÃO DAS CHAVES CONFORME A PADRONIZAÇÃO#\n",
    "\n",
    "new_dados_csv = []\n",
    "\n",
    "for old_dict in dados_csv:\n",
    "    dict_temp = {}\n",
    "    for old_key, value in old_dict.items():\n",
    "        dict_temp[key_mapping[old_key]] = value\n",
    "    new_dados_csv.append(dict_temp)\n",
    "new_dados_csv[0]\n"
   ]
  },
  {
   "cell_type": "code",
   "execution_count": 80,
   "metadata": {},
   "outputs": [
    {
     "data": {
      "text/plain": [
       "4446"
      ]
     },
     "execution_count": 80,
     "metadata": {},
     "output_type": "execute_result"
    }
   ],
   "source": [
    "#NUMERO DE REGISTROS#\n",
    "\n",
    "len(dados_json) + len(new_dados_csv)\n",
    "\n"
   ]
  },
  {
   "cell_type": "code",
   "execution_count": 81,
   "metadata": {},
   "outputs": [
    {
     "data": {
      "text/plain": [
       "4446"
      ]
     },
     "execution_count": 81,
     "metadata": {},
     "output_type": "execute_result"
    }
   ],
   "source": [
    "#JUNTANDO BASES JSON E CSV E VERIFICANDO TAMANHO#\n",
    "combined_list = []\n",
    "combined_list.extend(dados_json)\n",
    "combined_list.extend(new_dados_csv)\n",
    "\n",
    "\n",
    "len(combined_list)\n"
   ]
  },
  {
   "cell_type": "markdown",
   "metadata": {},
   "source": [
    "Escrevendo os dados na ../data_processed"
   ]
  },
  {
   "cell_type": "code",
   "execution_count": 82,
   "metadata": {},
   "outputs": [
    {
     "data": {
      "text/plain": [
       "['Nome do Produto',\n",
       " 'Categoria do Produto',\n",
       " 'Preço do Produto (R$)',\n",
       " 'Quantidade em Estoque',\n",
       " 'Filial',\n",
       " 'Data da Venda']"
      ]
     },
     "execution_count": 82,
     "metadata": {},
     "output_type": "execute_result"
    }
   ],
   "source": [
    "#PEGANDO O NOME DAS COLUNA#\n",
    "    #-Usando o -1 para pegar o ultimom dicionario da lista, pois o ultimo tinha uma chave a mais-#\n",
    "nomes_colunas = list(combined_list[-1].keys())\n",
    "nomes_colunas\n",
    "\n"
   ]
  },
  {
   "cell_type": "code",
   "execution_count": 83,
   "metadata": {},
   "outputs": [],
   "source": [
    "#GERANDO UMA LISTA NO ESTILO TABELA RETIRANDO DO OS VALORES DO DICIONARIO\"#\n",
    "    #-Foi utilizado o GET para quando não encotrar o valor colcoar como 'indisponivel'-# \n",
    "dados_combinados_tabela = [nomes_colunas]\n",
    "\n",
    "for row in combined_list:\n",
    "    linha = []\n",
    "    for coluna in nomes_colunas:\n",
    "     linha.append(row.get(coluna, 'Indisponivel'))\n",
    "     dados_combinados_tabela.append(linha)\n"
   ]
  },
  {
   "cell_type": "code",
   "execution_count": 84,
   "metadata": {},
   "outputs": [],
   "source": [
    "\n",
    "#PROCESSO WRITER#\n",
    "path_dados_combinados = '../data_processed/dados_combinados.csv'\n",
    "\n",
    "\n",
    "with open(path_dados_combinados, 'w') as file:\n",
    "    writer = csv.writer(file)\n",
    "    for row in dados_combinados_tabela:\n",
    "        writer.writerow(row)\n",
    "## no lugar do for(loop) pode se utilizar writer.writerows(combined_list) vai fazer o mesmo efeito\n",
    "        \n",
    "\n",
    "        "
   ]
  }
 ],
 "metadata": {
  "kernelspec": {
   "display_name": "venv",
   "language": "python",
   "name": "python3"
  },
  "language_info": {
   "codemirror_mode": {
    "name": "ipython",
    "version": 3
   },
   "file_extension": ".py",
   "mimetype": "text/x-python",
   "name": "python",
   "nbconvert_exporter": "python",
   "pygments_lexer": "ipython3",
   "version": "3.10.12"
  }
 },
 "nbformat": 4,
 "nbformat_minor": 2
}
